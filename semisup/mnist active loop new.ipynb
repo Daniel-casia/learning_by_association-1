{
 "cells": [
  {
   "cell_type": "markdown",
   "metadata": {},
   "source": [
    "# Mnist one sample per class active learning"
   ]
  },
  {
   "cell_type": "code",
   "execution_count": 1,
   "metadata": {},
   "outputs": [
    {
     "name": "stdout",
     "output_type": "stream",
     "text": [
      "0.001 {'unsup_batch_size': 30, 'max_steps': 4000, 'learning_rate': 0.001, 'logit_weight': 1, 'logdir': '/tmp/semisup_mnist', 'num_active_samples': 50, 'sample_method': 'propose_samples_pb_sampling', 'sup_per_batch': -1, 'decay_factor': 0.33, 'sup_per_class': 2, 'semisup': True, 'eval_interval': 500, 'walker_weight': 1, 'num_new_samples_per_run': 5, 'warmup_steps': 3000, 'restart': False, 'visit_weight': 1, 'dropout_keep_prob': 1, 'sup_seed': -1, 'decay_steps': 5000, 'l1_weight': 0.001}\n"
     ]
    }
   ],
   "source": [
    "from __future__ import absolute_import\n",
    "from __future__ import division\n",
    "from __future__ import print_function\n",
    "\n",
    "import tensorflow as tf\n",
    "tf.logging.set_verbosity(tf.logging.ERROR)\n",
    "import semisup\n",
    "\n",
    "from tensorflow.python.platform import app\n",
    "from tensorflow.python.platform import flags\n",
    "\n",
    "FLAGS = flags.FLAGS\n",
    "\n",
    "flags.DEFINE_integer('sup_per_class', 2,\n",
    "                       'Number of labeled samples used per class.')\n",
    "\n",
    "flags.DEFINE_integer('sup_seed', -1,\n",
    "                   'Integer random seed used for labeled set selection.')\n",
    "\n",
    "flags.DEFINE_integer('sup_per_batch', -1,  # -1: use all that we have\n",
    "                   'Number of labeled samples per class per batch.')\n",
    "\n",
    "flags.DEFINE_integer('unsup_batch_size', 30,\n",
    "                   'Number of unlabeled samples per batch.')\n",
    "\n",
    "flags.DEFINE_integer('eval_interval', 500,\n",
    "                   'Number of steps between evaluations.')\n",
    "\n",
    "flags.DEFINE_float('learning_rate', 1e-3, 'Initial learning rate.')\n",
    "\n",
    "flags.DEFINE_float('decay_factor', 0.33, 'Learning rate decay factor.')\n",
    "\n",
    "flags.DEFINE_float('decay_steps', 5000,\n",
    "                 'Learning rate decay interval in steps.')\n",
    "\n",
    "flags.DEFINE_float('visit_weight', 1, 'Weight for visit loss.')\n",
    "flags.DEFINE_float('walker_weight', 1, 'Weight for walker loss.')\n",
    "flags.DEFINE_float('logit_weight', 1, 'Weight for logit loss.')\n",
    "flags.DEFINE_float('l1_weight', 0.001, 'Weight for embedding l1 regularization.')\n",
    "\n",
    "flags.DEFINE_integer('max_steps', 4000, 'Number of training steps.')\n",
    "flags.DEFINE_integer('warmup_steps', 3000, 'Number of warmup steps.')\n",
    "\n",
    "flags.DEFINE_integer('num_active_samples', 50, 'Number of active samples to request in total.')\n",
    "flags.DEFINE_integer('num_new_samples_per_run', 5, 'Number of active samples to request every run.')\n",
    "\n",
    "flags.DEFINE_string('logdir', '/tmp/semisup_mnist', 'Training log path.')\n",
    "flags.DEFINE_string('sample_method', 'propose_samples_pb_sampling', 'Method used to add new samples')\n",
    "\n",
    "flags.DEFINE_bool('semisup', True, 'Add unsupervised samples')\n",
    "\n",
    "flags.DEFINE_bool('restart', False, 'Restart from scratch after a new sample was added')\n",
    "\n",
    "flags.DEFINE_float('dropout_keep_prob', 1, 'Keep Prop in dropout. Set to 1 to deactivate dropout')\n",
    "\n",
    "print(FLAGS.learning_rate, FLAGS.__flags) # print all flags (useful when logging)\n",
    "\n",
    "from tools import mnist as mnist_tools\n",
    "\n",
    "NUM_LABELS = mnist_tools.NUM_LABELS\n",
    "IMAGE_SHAPE = mnist_tools.IMAGE_SHAPE"
   ]
  },
  {
   "cell_type": "code",
   "execution_count": 2,
   "metadata": {
    "collapsed": true
   },
   "outputs": [],
   "source": [
    "%load_ext autoreload\n",
    "%autoreload 2"
   ]
  },
  {
   "cell_type": "code",
   "execution_count": 3,
   "metadata": {},
   "outputs": [],
   "source": [
    "from mnist_train_eval_active import init_graph"
   ]
  },
  {
   "cell_type": "code",
   "execution_count": 4,
   "metadata": {},
   "outputs": [
    {
     "name": "stdout",
     "output_type": "stream",
     "text": [
      "Extracting /usr/stud/plapp/data/mnist//train-images-idx3-ubyte.gz\n",
      "Extracting /usr/stud/plapp/data/mnist//train-labels-idx1-ubyte.gz\n",
      "Extracting /usr/stud/plapp/data/mnist//t10k-images-idx3-ubyte.gz\n",
      "Extracting /usr/stud/plapp/data/mnist//t10k-labels-idx1-ubyte.gz\n",
      "Seed: 399\n"
     ]
    }
   ],
   "source": [
    "from mnist_train_eval_active import init_data\n",
    "\n",
    "sup_by_label, train_images, train_labels, test_images, test_labels, seed = init_data()"
   ]
  },
  {
   "cell_type": "code",
   "execution_count": 5,
   "metadata": {
    "scrolled": true
   },
   "outputs": [
    {
     "data": {
      "image/png": "[encoded data removed]",
      "text/plain": [
       "<matplotlib.figure.Figure at 0x7f57650f5b70>"
      ]
     },
     "metadata": {},
     "output_type": "display_data"
    },
    {
     "data": {
      "image/png": "[encoded data removed]",
      "text/plain": [
       "<matplotlib.figure.Figure at 0x7f575d6ba828>"
      ]
     },
     "metadata": {},
     "output_type": "display_data"
    },
    {
     "data": {
      "image/png": "[encoded data removed]",
      "text/plain": [
       "<matplotlib.figure.Figure at 0x7f575d607e48>"
      ]
     },
     "metadata": {},
     "output_type": "display_data"
    },
    {
     "data": {
      "image/png": "[encoded data removed]",
      "text/plain": [
       "<matplotlib.figure.Figure at 0x7f575d714630>"
      ]
     },
     "metadata": {},
     "output_type": "display_data"
    },
    {
     "data": {
      "image/png": "[encoded data removed]",
      "text/plain": [
       "<matplotlib.figure.Figure at 0x7f575d55a518>"
      ]
     },
     "metadata": {},
     "output_type": "display_data"
    },
    {
     "data": {
      "image/png": "[encoded data removed]",
      "text/plain": [
       "<matplotlib.figure.Figure at 0x7f575d4afd30>"
      ]
     },
     "metadata": {},
     "output_type": "display_data"
    },
    {
     "data": {
      "image/png": "[encoded data removed]",
      "text/plain": [
       "<matplotlib.figure.Figure at 0x7f575d4fd0f0>"
      ]
     },
     "metadata": {},
     "output_type": "display_data"
    },
    {
     "data": {
      "image/png": "[encoded data removed]",
      "text/plain": [
       "<matplotlib.figure.Figure at 0x7f575d42c240>"
      ]
     },
     "metadata": {},
     "output_type": "display_data"
    },
    {
     "data": {
      "image/png": "[encoded data removed]",
      "text/plain": [
       "<matplotlib.figure.Figure at 0x7f575d3b5c88>"
      ]
     },
     "metadata": {},
     "output_type": "display_data"
    },
    {
     "data": {
      "image/png": "[encoded data removed]",
      "text/plain": [
       "<matplotlib.figure.Figure at 0x7f575d563dd8>"
      ]
     },
     "metadata": {},
     "output_type": "display_data"
    }
   ],
   "source": [
    "from backend import show_sample_img, show_sample_img_inline\n",
    "for imgs in sup_by_label: \n",
    "    show_sample_img_inline(imgs) "
   ]
  },
  {
   "cell_type": "code",
   "execution_count": 6,
   "metadata": {
    "collapsed": true
   },
   "outputs": [],
   "source": [
    "indices = []\n",
    "\n",
    "logdir = FLAGS.logdir + '_' + str(seed) + '_' + str(len(indices))"
   ]
  },
  {
   "cell_type": "code",
   "execution_count": 7,
   "metadata": {},
   "outputs": [
    {
     "name": "stdout",
     "output_type": "stream",
     "text": [
      "---------\n",
      "Variables: name (type shape) [size]\n",
      "---------\n",
      "net/conv1_1/weights:0 (float32_ref 3x3x1x32) [288, bytes: 1152]\n",
      "net/conv1_1/biases:0 (float32_ref 32) [32, bytes: 128]\n",
      "net/conv1_2/weights:0 (float32_ref 3x3x32x32) [9216, bytes: 36864]\n",
      "net/conv1_2/biases:0 (float32_ref 32) [32, bytes: 128]\n",
      "net/conv2_1/weights:0 (float32_ref 3x3x32x64) [18432, bytes: 73728]\n",
      "net/conv2_1/biases:0 (float32_ref 64) [64, bytes: 256]\n",
      "net/conv2_2/weights:0 (float32_ref 3x3x64x64) [36864, bytes: 147456]\n",
      "net/conv2_2/biases:0 (float32_ref 64) [64, bytes: 256]\n",
      "net/conv3_1/weights:0 (float32_ref 3x3x64x128) [73728, bytes: 294912]\n",
      "net/conv3_1/biases:0 (float32_ref 128) [128, bytes: 512]\n",
      "net/conv3_2/weights:0 (float32_ref 3x3x128x128) [147456, bytes: 589824]\n",
      "net/conv3_2/biases:0 (float32_ref 128) [128, bytes: 512]\n",
      "net/fc1/weights:0 (float32_ref 1152x128) [147456, bytes: 589824]\n",
      "net/fc1/biases:0 (float32_ref 128) [128, bytes: 512]\n",
      "net/fully_connected/weights:0 (float32_ref 128x10) [1280, bytes: 5120]\n",
      "net/fully_connected/biases:0 (float32_ref 10) [10, bytes: 40]\n",
      "Total size of variables: 435306\n",
      "Total bytes of variables: 1741224\n",
      "[<tf.Tensor 'loss_aba/value:0' shape=() dtype=float32>, <tf.Tensor 'loss_visit/value:0' shape=() dtype=float32>, <tf.Tensor 'loss_visit_bab/value:0' shape=() dtype=float32>, <tf.Tensor 'loss_logit/value:0' shape=() dtype=float32>, <tf.Tensor 'L1Loss/value:0' shape=() dtype=float32>, <tf.Tensor 'L1Loss_1/value:0' shape=() dtype=float32>]\n"
     ]
    }
   ],
   "source": [
    "unsup_batch_size = 30 # 30 for small count of sup samples, 100 for larger count\n",
    "train_warmup, train_finetune, choose_sample, add_sample = \\\n",
    "    init_graph(sup_by_label, train_images, train_labels, test_images, test_labels, logdir, unsup_batch_size)"
   ]
  },
  {
   "cell_type": "code",
   "execution_count": 8,
   "metadata": {
    "scrolled": true
   },
   "outputs": [
    {
     "name": "stdout",
     "output_type": "stream",
     "text": [
      "Step: 99\n",
      "[[130 108  65  43 209 185  45  92  14  89]\n",
      " [  1 334  23 101 478  34   3   4  76  81]\n",
      " [  4  81  52 398 253 142  35  11  15  41]\n",
      " [ 23  23  72 511 126  90  23  21  82  39]\n",
      " [ 53  45  21  20 306 332  37  12  34 122]\n",
      " [ 34  52  61 161 161 250  40  14  38  81]\n",
      " [ 27  73  87 137 157 389  67   0  18   3]\n",
      " [  7  24   8  82 217 131  23  63 238 235]\n",
      " [ 13  67  19 279 296 113   7  12 127  41]\n",
      " [ 10  33  21  77 273 368   4  19  90 114]]\n",
      "Test error: 80.46 %\n",
      "Train loss: 8.78 \n",
      "\n",
      "Step: 499\n",
      "[[625  13  23  19  29 161  37  48  14  11]\n",
      " [ 70 614  92  12   2  37  55   8  11 234]\n",
      " [ 47  15 111 279 247  36 185  48  57   7]\n",
      " [ 41  41  47 409  65  35 186 112  64  10]\n",
      " [ 56  29  50   4 432 170  92  56  21  72]\n",
      " [ 80  44  27  92  32 350 139 110  11   7]\n",
      " [ 37  71  50  24 176  74 508   2  11   5]\n",
      " [ 10  12  41  34  51  54  91 658  50  27]\n",
      " [ 46  70  38 148 138  92 205  70 143  24]\n",
      " [ 18  37  94  26 277 287  45 135  29  61]]\n",
      "Test error: 60.89 %\n",
      "Train loss: 5.01 \n",
      "\n",
      "Step: 999\n",
      "[[554   1  34  10  11 294  28   9  25  14]\n",
      " [  0 624   1   4   0   4   6   1   1 494]\n",
      " [  3   9 461 206  28  62  63  21 159  20]\n",
      " [  0  22  73 758   8  62  24  24  15  24]\n",
      " [  0   4  42   2 606  78  13  25  10 202]\n",
      " [  6  12  18 181   7 573  43  28   3  21]\n",
      " [  2  21  11   2  17  71 806   0   8  20]\n",
      " [  1  11  46   5  25  22   1 852   7  58]\n",
      " [  7  31  50 125  42  84  33  47 484  71]\n",
      " [  2  13 195  14 309 113   8 122   6 227]]\n",
      "Test error: 40.55 %\n",
      "Train loss: 3.75 \n",
      "\n",
      "Step: 1499\n",
      "[[949   0   1   0   0  23   4   0   2   1]\n",
      " [  2 666   3   1   0   1   7   0   0 455]\n",
      " [ 81   4 798   3   3  15  51   4  68   5]\n",
      " [ 67  22  39 757   7  88  14   7   7   2]\n",
      " [ 39   1  10   0 702   8  16   0   0 206]\n",
      " [ 92   6   2  95  16 626  52   1   0   2]\n",
      " [ 48   4   1   0   2  44 856   0   0   3]\n",
      " [ 30  19  48   2  79   7   0 762   1  80]\n",
      " [ 93  25  20   9  35  32  55   3 679  23]\n",
      " [ 41  21  67   5 624   8   2  12   4 225]]\n",
      "Test error: 29.80 %\n",
      "Train loss: 3.55 \n",
      "\n",
      "Step: 1999\n",
      "[[884   1   1   1   0  36  21   2  34   0]\n",
      " [  0 767   0   6   0   0   9   0   7 346]\n",
      " [  6   8 787  16   2   1  26  22 163   1]\n",
      " [  0  11   5 917   5  10   7  25  30   0]\n",
      " [  0   3   0   0 679   2  31   6  13 248]\n",
      " [ 13   8   0  99   5 682  31   3  51   0]\n",
      " [  4   7   0   0   1  14 904   0  27   1]\n",
      " [  3  12  18   6  22   0   0 927   5  35]\n",
      " [  6   3   2   2   5   5   3  10 936   2]\n",
      " [  8  22   1  12 599  11   3  62  14 277]]\n",
      "Test error: 22.40 %\n",
      "Train loss: 3.73 \n",
      "\n",
      "Step: 2499\n",
      "[[966   0   1   0   0   2   7   0   3   1]\n",
      " [  4 895   3   4   0   2   5   2   5 215]\n",
      " [ 16   5 971   6   0   2   4  11  16   1]\n",
      " [  2   8  18 919   7  25   2  23   6   0]\n",
      " [ 14   0   3   0 680   1  14  20  19 231]\n",
      " [  8   1   0  23   3 847   8   1   1   0]\n",
      " [ 11   6   0   0   1  31 909   0   0   0]\n",
      " [  7  12  34   0  10   1   0 954   1   9]\n",
      " [ 23  11  14   1   7  30   4   9 874   1]\n",
      " [ 27   8   3   9 615  20   0  84  10 233]]\n",
      "Test error: 17.52 %\n",
      "Train loss: 3.57 \n",
      "\n",
      "Step: 2999\n",
      "[[ 913    0   21    0    0    0   25    2   18    1]\n",
      " [   0 1000    3    5    0    0    8    0    7  112]\n",
      " [   0    0 1001    4    0    0    5   10   11    1]\n",
      " [   0    1   15  958    3    3    4   18    8    0]\n",
      " [   0    0    8    0  657    0   14    7    7  289]\n",
      " [   3    1    3   52    5  804   18    1    5    0]\n",
      " [   3    3    2    0    2    4  933    0   11    0]\n",
      " [   0    9   13    1    7    0    0  975    1   22]\n",
      " [   9    2   18    3    7    2   16    7  904    6]\n",
      " [   3    9    4   22  572    1    3   73    8  314]]\n",
      "Test error: 15.41 %\n",
      "Train loss: 4.02 \n",
      "\n",
      "Step: 3499\n",
      "[[ 959    0    1    0    1    0   14    1    3    1]\n",
      " [   0 1000    1    6    0    0    5    1    0  122]\n",
      " [  20    2  945   15    0    0    7   20   21    2]\n",
      " [   0    0    2  992    5    2    1    8    0    0]\n",
      " [   0    0    1    0  622    0    9    2    1  347]\n",
      " [   3    1    0   35    5  839    7    1    1    0]\n",
      " [   5    8    0    0    5    7  929    0    4    0]\n",
      " [   1    7   22    3   22    0    0  962    2    9]\n",
      " [  19   11    3   11    9    6    8   12  888    7]\n",
      " [   5    5    0   18  582    2    2   24    2  369]]\n",
      "Test error: 14.95 %\n",
      "Train loss: 3.74 \n",
      "\n",
      "Step: 3999\n",
      "[[ 969    1    0    0    1    0    6    0    3    0]\n",
      " [   0 1105    2    6    1    0    7    1    3   10]\n",
      " [   9    0  941    9    1    0   11   34   27    0]\n",
      " [   0    0    6  977    2   10    0   11    4    0]\n",
      " [   2    0    3    1  669    0   12    0    8  287]\n",
      " [   9    0    2   39    5  815   11    3    8    0]\n",
      " [   8    2    0    0    5    1  937    0    5    0]\n",
      " [   0    7   45    1   36    1    0  935    2    1]\n",
      " [  23    1    3    2    6    0    4    9  925    1]\n",
      " [   8    5    0   19  604    1    1   22   11  338]]\n",
      "Test error: 13.89 %\n",
      "Train loss: 3.48 \n",
      "\n"
     ]
    }
   ],
   "source": [
    "train_warmup()"
   ]
  },
  {
   "cell_type": "code",
   "execution_count": 11,
   "metadata": {
    "scrolled": true
   },
   "outputs": [
    {
     "name": "stdout",
     "output_type": "stream",
     "text": [
      "total number of supervised samples (20,)\n",
      "ths 3.2149805179e-06 1.04194723349e-06\n",
      "class distribution for not confident samples [ 265  531  853 1514  617 1362  385 1206  939  728]\n",
      "class distribution for not confident and \"clustered\" samples [  1   0   0 416   5 264   0  32  47  75]\n",
      "sampled new images with labels [3 3 9 5 3]\n"
     ]
    },
    {
     "data": {
      "image/png": "[encoded data removed]",
      "text/plain": [
       "<matplotlib.figure.Figure at 0x7f78b87d1f98>"
      ]
     },
     "metadata": {},
     "output_type": "display_data"
    },
    {
     "name": "stdout",
     "output_type": "stream",
     "text": [
      "[3 3 9 5 3]\n"
     ]
    },
    {
     "data": {
      "image/png": "[encoded data removed]",
      "text/plain": [
       "<matplotlib.figure.Figure at 0x7f78b86fe978>"
      ]
     },
     "metadata": {},
     "output_type": "display_data"
    },
    {
     "data": {
      "image/png": "[encoded data removed]",
      "text/plain": [
       "<matplotlib.figure.Figure at 0x7f78ea05dba8>"
      ]
     },
     "metadata": {},
     "output_type": "display_data"
    },
    {
     "data": {
      "image/png": "[encoded data removed]",
      "text/plain": [
       "<matplotlib.figure.Figure at 0x7f78b87b0048>"
      ]
     },
     "metadata": {},
     "output_type": "display_data"
    },
    {
     "data": {
      "image/png": "[encoded data removed]",
      "text/plain": [
       "<matplotlib.figure.Figure at 0x7f78ea168ac8>"
      ]
     },
     "metadata": {},
     "output_type": "display_data"
    },
    {
     "data": {
      "image/png": "[encoded data removed]",
      "text/plain": [
       "<matplotlib.figure.Figure at 0x7f78b87aceb8>"
      ]
     },
     "metadata": {},
     "output_type": "display_data"
    }
   ],
   "source": [
    "import numpy as np\n",
    "\n",
    "#propose 5 samples\n",
    "inds = choose_sample(\"propose_samples_pb_sampling\") \n",
    "show_sample_img_inline(train_images[inds][0:5])\n",
    "\n",
    "print(train_labels[inds])\n",
    "chosen_inds = inds\n",
    "#chosen_inds = inds[:3]\n",
    "for ind in chosen_inds:\n",
    "    show_sample_img_inline(sup_by_label[train_labels[ind]]) "
   ]
  },
  {
   "cell_type": "code",
   "execution_count": 12,
   "metadata": {
    "scrolled": true
   },
   "outputs": [
    {
     "data": {
      "image/png": "[encoded data removed]",
      "text/plain": [
       "<matplotlib.figure.Figure at 0x7f78f1bb5d68>"
      ]
     },
     "metadata": {},
     "output_type": "display_data"
    },
    {
     "data": {
      "image/png": "[encoded data removed]",
      "text/plain": [
       "<matplotlib.figure.Figure at 0x7f78dc61e160>"
      ]
     },
     "metadata": {},
     "output_type": "display_data"
    },
    {
     "data": {
      "image/png": "[encoded data removed]",
      "text/plain": [
       "<matplotlib.figure.Figure at 0x7f78e13cb208>"
      ]
     },
     "metadata": {},
     "output_type": "display_data"
    },
    {
     "data": {
      "image/png": "[encoded data removed]",
      "text/plain": [
       "<matplotlib.figure.Figure at 0x7f78e9dd75c0>"
      ]
     },
     "metadata": {},
     "output_type": "display_data"
    },
    {
     "data": {
      "image/png": "[encoded data removed]",
      "text/plain": [
       "<matplotlib.figure.Figure at 0x7f788c2d1b70>"
      ]
     },
     "metadata": {},
     "output_type": "display_data"
    }
   ],
   "source": [
    "# add to training set\n",
    "for ind in chosen_inds:\n",
    "    indices.append(ind)\n",
    "    add_sample(ind) \n",
    "    show_sample_img(train_images[ind])"
   ]
  },
  {
   "cell_type": "markdown",
   "metadata": {},
   "source": [
    "### That was one iteration\n",
    "Now, either re-initialize the graph (Cell 9) and start from scratch, \n",
    "or continue with this graph (either warmup or finetune)"
   ]
  },
  {
   "cell_type": "code",
   "execution_count": 15,
   "metadata": {
    "scrolled": true
   },
   "outputs": [
    {
     "name": "stdout",
     "output_type": "stream",
     "text": [
      "Step: 99\n",
      "[[936   7   1   0   9   4   1   3   4  15]\n",
      " [  0 897   4   5 227   0   0   0   0   2]\n",
      " [  4  10 956   3   3   9   0  36   1  10]\n",
      " [  1   1  29 959   1   1   0   9   5   4]\n",
      " [  0  31   0   1  75 809   2   3   1  60]\n",
      " [  8  12   6 600   9  29 134   1  79  14]\n",
      " [ 25  40   1   0 172  19 690   0  10   1]\n",
      " [  0   2  46   2   2   3   0 817   1 155]\n",
      " [ 39  15  15   1  58  22   1  20 761  42]\n",
      " [  3   3   1  32  13  48   0  10   1 898]]\n",
      "Test error: 29.82 %\n",
      "Train loss: 5.16 \n",
      "\n",
      "Step: 499\n",
      "[[954   2   1   0   4   2   3   2   8   4]\n",
      " [  0 793   3   6 330   0   0   0   1   2]\n",
      " [  5   5 957   1   1   4   0  53   3   3]\n",
      " [  1   0   9 962   0   0   0  29   4   5]\n",
      " [  4  17   0   1  42 860   6   6   2  44]\n",
      " [ 12   3   2 510   8  62 159   3 115  18]\n",
      " [ 18  11   0   0 134  11 768   0  16   0]\n",
      " [  0   2  32   0   3   2   0 904   1  84]\n",
      " [ 32   8   4   1  35  16   9  38 822   9]\n",
      " [  6   1   0  21  12  74   1  40   5 849]]\n",
      "Test error: 28.87 %\n",
      "Train loss: 5.06 \n",
      "\n",
      "Step: 999\n",
      "[[963   2   1   0  10   0   1   1   0   2]\n",
      " [  0 850   4   1 277   0   0   0   2   1]\n",
      " [ 20  16 937   1  10  14   2  21   1  10]\n",
      " [  2   8  24 886  57   4   1  12   6  10]\n",
      " [  6   6   0   0  43 891   7   2   0  27]\n",
      " [  4   5   0 512  17  36 166   0 137  15]\n",
      " [ 62   5   0   1 214   4 661   0  11   0]\n",
      " [  2  16  53   0  15   4   0 862   0  76]\n",
      " [ 69  13   4   6  57  27   2   7 753  36]\n",
      " [ 18   4   0  13  16  91   0   4   1 862]]\n",
      "Test error: 31.47 %\n",
      "Train loss: 5.19 \n",
      "\n",
      "Step: 1499\n",
      "[[928   8   4   0   5   0  14   0   4  17]\n",
      " [  0 643   3   4 480   0   1   1   3   0]\n",
      " [  1   2 950   1  16  22   1  17  13   9]\n",
      " [  0   0  34 889  44   6   3  12  13   9]\n",
      " [  0  15   1   0  47 861  14   3   2  39]\n",
      " [ 11  11   3 405  14  29 143   2 215  59]\n",
      " [ 10  25   0   0 130   1 769   0  22   1]\n",
      " [  0   2  41   0  29  14   1 823   5 113]\n",
      " [ 11   6   6   0  66   8   6   5 854  12]\n",
      " [  6   2   0  18  12  48   1   7   3 912]]\n",
      "Test error: 31.56 %\n",
      "Train loss: 5.21 \n",
      "\n",
      "Step: 1999\n",
      "[[937   4   1   0   7   1  18   3   1   8]\n",
      " [  0 596   3   2 532   0   0   0   2   0]\n",
      " [  3   5 954   2  18  18   7  22   3   0]\n",
      " [  1   2  41 819  82   2   2  36  20   5]\n",
      " [  0   3   0   0  48 890  21   5   0  15]\n",
      " [  7   7   3 400  59  13 100  20 101 182]\n",
      " [  8   6   0   0 142   1 798   0   2   1]\n",
      " [  1   1  39   0  34   6   1 912   1  33]\n",
      " [ 23  10   0   0  86   3  11  20 807  14]\n",
      " [  5   1   1  22  36  53   4  43   6 838]]\n",
      "Test error: 32.78 %\n",
      "Train loss: 5.26 \n",
      "\n",
      "Step: 2499\n",
      "[[916   6   3   0   3   6  34   1   1  10]\n",
      " [  0 607   6   1 512   0   8   0   1   0]\n",
      " [  2   2 966   3  13  17  15  12   2   0]\n",
      " [  0   3  78 829  76   0   9  13   0   2]\n",
      " [  0   7   0   0  32 920  11   2   3   7]\n",
      " [  9  75  22 399  12  69  65   8 143  90]\n",
      " [  9   4   0   0   9   6 929   0   0   1]\n",
      " [  0   4  41   0 114  10   0 820   1  38]\n",
      " [ 17  15   7   2  25  18  18   3 861   8]\n",
      " [  2   6   1  14  26  92   1  24  11 832]]\n",
      "Test error: 31.39 %\n",
      "Train loss: 4.92 \n",
      "\n"
     ]
    },
    {
     "ename": "KeyboardInterrupt",
     "evalue": "",
     "output_type": "error",
     "traceback": [
      "\u001b[0;31m---------------------------------------------------------------------------\u001b[0m",
      "\u001b[0;31mKeyboardInterrupt\u001b[0m                         Traceback (most recent call last)",
      "\u001b[0;32m<ipython-input-15-982afc757e5a>\u001b[0m in \u001b[0;36m<module>\u001b[0;34m()\u001b[0m\n\u001b[1;32m      1\u001b[0m \u001b[0;31m# finetune. This is equal to standard mnist training (no warmup)\u001b[0m\u001b[0;34m\u001b[0m\u001b[0;34m\u001b[0m\u001b[0m\n\u001b[0;32m----> 2\u001b[0;31m \u001b[0mtrain_finetune\u001b[0m\u001b[0;34m(\u001b[0m\u001b[0mlr\u001b[0m\u001b[0;34m=\u001b[0m\u001b[0;36m0.001\u001b[0m\u001b[0;34m)\u001b[0m\u001b[0;34m\u001b[0m\u001b[0m\n\u001b[0m",
      "\u001b[0;32m~/lba_tf/semisup/mnist_train_eval_active.py\u001b[0m in \u001b[0;36mtrain_finetune\u001b[0;34m(lr, steps)\u001b[0m\n\u001b[1;32m    228\u001b[0m         \u001b[0mt_learning_rate\u001b[0m\u001b[0;34m:\u001b[0m \u001b[0mlr\u001b[0m\u001b[0;34m,\u001b[0m\u001b[0;34m\u001b[0m\u001b[0m\n\u001b[1;32m    229\u001b[0m         \u001b[0mt_sup_images\u001b[0m\u001b[0;34m:\u001b[0m \u001b[0msi\u001b[0m\u001b[0;34m,\u001b[0m\u001b[0;34m\u001b[0m\u001b[0m\n\u001b[0;32m--> 230\u001b[0;31m         \u001b[0mt_sup_labels\u001b[0m\u001b[0;34m:\u001b[0m \u001b[0msl\u001b[0m\u001b[0;34m\u001b[0m\u001b[0m\n\u001b[0m\u001b[1;32m    231\u001b[0m       })\n\u001b[1;32m    232\u001b[0m       \u001b[0;32mif\u001b[0m \u001b[0;34m(\u001b[0m\u001b[0mstep\u001b[0m \u001b[0;34m+\u001b[0m \u001b[0;36m1\u001b[0m\u001b[0;34m)\u001b[0m \u001b[0;34m%\u001b[0m \u001b[0mFLAGS\u001b[0m\u001b[0;34m.\u001b[0m\u001b[0meval_interval\u001b[0m \u001b[0;34m==\u001b[0m \u001b[0;36m0\u001b[0m \u001b[0;32mor\u001b[0m \u001b[0mstep\u001b[0m \u001b[0;34m==\u001b[0m \u001b[0;36m99\u001b[0m\u001b[0;34m:\u001b[0m\u001b[0;34m\u001b[0m\u001b[0m\n",
      "\u001b[0;32m~/.local/lib/python3.5/site-packages/tensorflow/python/client/session.py\u001b[0m in \u001b[0;36mrun\u001b[0;34m(self, fetches, feed_dict, options, run_metadata)\u001b[0m\n\u001b[1;32m    787\u001b[0m     \u001b[0;32mtry\u001b[0m\u001b[0;34m:\u001b[0m\u001b[0;34m\u001b[0m\u001b[0m\n\u001b[1;32m    788\u001b[0m       result = self._run(None, fetches, feed_dict, options_ptr,\n\u001b[0;32m--> 789\u001b[0;31m                          run_metadata_ptr)\n\u001b[0m\u001b[1;32m    790\u001b[0m       \u001b[0;32mif\u001b[0m \u001b[0mrun_metadata\u001b[0m\u001b[0;34m:\u001b[0m\u001b[0;34m\u001b[0m\u001b[0m\n\u001b[1;32m    791\u001b[0m         \u001b[0mproto_data\u001b[0m \u001b[0;34m=\u001b[0m \u001b[0mtf_session\u001b[0m\u001b[0;34m.\u001b[0m\u001b[0mTF_GetBuffer\u001b[0m\u001b[0;34m(\u001b[0m\u001b[0mrun_metadata_ptr\u001b[0m\u001b[0;34m)\u001b[0m\u001b[0;34m\u001b[0m\u001b[0m\n",
      "\u001b[0;32m~/.local/lib/python3.5/site-packages/tensorflow/python/client/session.py\u001b[0m in \u001b[0;36m_run\u001b[0;34m(self, handle, fetches, feed_dict, options, run_metadata)\u001b[0m\n\u001b[1;32m    995\u001b[0m     \u001b[0;32mif\u001b[0m \u001b[0mfinal_fetches\u001b[0m \u001b[0;32mor\u001b[0m \u001b[0mfinal_targets\u001b[0m\u001b[0;34m:\u001b[0m\u001b[0;34m\u001b[0m\u001b[0m\n\u001b[1;32m    996\u001b[0m       results = self._do_run(handle, final_targets, final_fetches,\n\u001b[0;32m--> 997\u001b[0;31m                              feed_dict_string, options, run_metadata)\n\u001b[0m\u001b[1;32m    998\u001b[0m     \u001b[0;32melse\u001b[0m\u001b[0;34m:\u001b[0m\u001b[0;34m\u001b[0m\u001b[0m\n\u001b[1;32m    999\u001b[0m       \u001b[0mresults\u001b[0m \u001b[0;34m=\u001b[0m \u001b[0;34m[\u001b[0m\u001b[0;34m]\u001b[0m\u001b[0;34m\u001b[0m\u001b[0m\n",
      "\u001b[0;32m~/.local/lib/python3.5/site-packages/tensorflow/python/client/session.py\u001b[0m in \u001b[0;36m_do_run\u001b[0;34m(self, handle, target_list, fetch_list, feed_dict, options, run_metadata)\u001b[0m\n\u001b[1;32m   1130\u001b[0m     \u001b[0;32mif\u001b[0m \u001b[0mhandle\u001b[0m \u001b[0;32mis\u001b[0m \u001b[0;32mNone\u001b[0m\u001b[0;34m:\u001b[0m\u001b[0;34m\u001b[0m\u001b[0m\n\u001b[1;32m   1131\u001b[0m       return self._do_call(_run_fn, self._session, feed_dict, fetch_list,\n\u001b[0;32m-> 1132\u001b[0;31m                            target_list, options, run_metadata)\n\u001b[0m\u001b[1;32m   1133\u001b[0m     \u001b[0;32melse\u001b[0m\u001b[0;34m:\u001b[0m\u001b[0;34m\u001b[0m\u001b[0m\n\u001b[1;32m   1134\u001b[0m       return self._do_call(_prun_fn, self._session, handle, feed_dict,\n",
      "\u001b[0;32m~/.local/lib/python3.5/site-packages/tensorflow/python/client/session.py\u001b[0m in \u001b[0;36m_do_call\u001b[0;34m(self, fn, *args)\u001b[0m\n\u001b[1;32m   1137\u001b[0m   \u001b[0;32mdef\u001b[0m \u001b[0m_do_call\u001b[0m\u001b[0;34m(\u001b[0m\u001b[0mself\u001b[0m\u001b[0;34m,\u001b[0m \u001b[0mfn\u001b[0m\u001b[0;34m,\u001b[0m \u001b[0;34m*\u001b[0m\u001b[0margs\u001b[0m\u001b[0;34m)\u001b[0m\u001b[0;34m:\u001b[0m\u001b[0;34m\u001b[0m\u001b[0m\n\u001b[1;32m   1138\u001b[0m     \u001b[0;32mtry\u001b[0m\u001b[0;34m:\u001b[0m\u001b[0;34m\u001b[0m\u001b[0m\n\u001b[0;32m-> 1139\u001b[0;31m       \u001b[0;32mreturn\u001b[0m \u001b[0mfn\u001b[0m\u001b[0;34m(\u001b[0m\u001b[0;34m*\u001b[0m\u001b[0margs\u001b[0m\u001b[0;34m)\u001b[0m\u001b[0;34m\u001b[0m\u001b[0m\n\u001b[0m\u001b[1;32m   1140\u001b[0m     \u001b[0;32mexcept\u001b[0m \u001b[0merrors\u001b[0m\u001b[0;34m.\u001b[0m\u001b[0mOpError\u001b[0m \u001b[0;32mas\u001b[0m \u001b[0me\u001b[0m\u001b[0;34m:\u001b[0m\u001b[0;34m\u001b[0m\u001b[0m\n\u001b[1;32m   1141\u001b[0m       \u001b[0mmessage\u001b[0m \u001b[0;34m=\u001b[0m \u001b[0mcompat\u001b[0m\u001b[0;34m.\u001b[0m\u001b[0mas_text\u001b[0m\u001b[0;34m(\u001b[0m\u001b[0me\u001b[0m\u001b[0;34m.\u001b[0m\u001b[0mmessage\u001b[0m\u001b[0;34m)\u001b[0m\u001b[0;34m\u001b[0m\u001b[0m\n",
      "\u001b[0;32m~/.local/lib/python3.5/site-packages/tensorflow/python/client/session.py\u001b[0m in \u001b[0;36m_run_fn\u001b[0;34m(session, feed_dict, fetch_list, target_list, options, run_metadata)\u001b[0m\n\u001b[1;32m   1119\u001b[0m         return tf_session.TF_Run(session, options,\n\u001b[1;32m   1120\u001b[0m                                  \u001b[0mfeed_dict\u001b[0m\u001b[0;34m,\u001b[0m \u001b[0mfetch_list\u001b[0m\u001b[0;34m,\u001b[0m \u001b[0mtarget_list\u001b[0m\u001b[0;34m,\u001b[0m\u001b[0;34m\u001b[0m\u001b[0m\n\u001b[0;32m-> 1121\u001b[0;31m                                  status, run_metadata)\n\u001b[0m\u001b[1;32m   1122\u001b[0m \u001b[0;34m\u001b[0m\u001b[0m\n\u001b[1;32m   1123\u001b[0m     \u001b[0;32mdef\u001b[0m \u001b[0m_prun_fn\u001b[0m\u001b[0;34m(\u001b[0m\u001b[0msession\u001b[0m\u001b[0;34m,\u001b[0m \u001b[0mhandle\u001b[0m\u001b[0;34m,\u001b[0m \u001b[0mfeed_dict\u001b[0m\u001b[0;34m,\u001b[0m \u001b[0mfetch_list\u001b[0m\u001b[0;34m)\u001b[0m\u001b[0;34m:\u001b[0m\u001b[0;34m\u001b[0m\u001b[0m\n",
      "\u001b[0;31mKeyboardInterrupt\u001b[0m: "
     ]
    }
   ],
   "source": [
    "# finetune. This is equal to standard mnist training (no warmup)\n",
    "train_finetune(lr=0.001)"
   ]
  },
  {
   "cell_type": "code",
   "execution_count": null,
   "metadata": {
    "collapsed": true
   },
   "outputs": [],
   "source": [
    "# finalize\n",
    "train_warmup, train_finetune, choose_sample, add_sample = init_graph()\n",
    "\n",
    "train_warmup()\n",
    "train_finetune()\n",
    "train_finetune(lr=0.0001)\n",
    "\n",
    "print('chosen indices', indices)"
   ]
  }
 ],
 "metadata": {
  "kernelspec": {
   "display_name": "Python 3",
   "language": "python",
   "name": "python3"
  },
  "language_info": {
   "codemirror_mode": {
    "name": "ipython",
    "version": 3
   },
   "file_extension": ".py",
   "mimetype": "text/x-python",
   "name": "python",
   "nbconvert_exporter": "python",
   "pygments_lexer": "ipython3",
   "version": "3.5.2"
  }
 },
 "nbformat": 4,
 "nbformat_minor": 2
}
